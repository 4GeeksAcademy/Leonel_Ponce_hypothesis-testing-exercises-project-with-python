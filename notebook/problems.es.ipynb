{
 "cells": [
  {
   "cell_type": "markdown",
   "id": "d9d036c6",
   "metadata": {},
   "source": [
    "# Problemas de prueba de hipótesis"
   ]
  },
  {
   "cell_type": "markdown",
   "id": "d157c4db",
   "metadata": {},
   "source": [
    "## Ejercicio 1\n",
    "\n",
    "Usted es un nutricionista que investiga dos tipos diferentes de dietas para ver si existe una diferencia significativa en la pérdida de peso después de un mes. Eliges dos grupos aleatorios de personas; un grupo sigue la primera dieta y el otro sigue la segunda. Al final del mes, se registra la pérdida de peso (en kg) de cada persona:\n",
    "\n",
    "| Diet 1 | Diet 2 |\n",
    "|:-------|:-------|\n",
    "| 2.0 | 3.0 |\n",
    "| 2.5 | 3.2 |\n",
    "| 3.0 | 3.1 |\n",
    "| 2.8 | 2.9 |\n",
    "| 2.3 | 2.8 |\n",
    "| 2.7 | 3.0 |\n",
    "| 2.5 | 3.2 |\n",
    "\n",
    "Con estos datos se busca responder a la siguiente pregunta: ¿Existe una diferencia significativa en la pérdida de peso promedio entre las personas que siguieron la primera dieta y las que siguieron la segunda dieta?\n",
    "\n",
    "Para sacar conclusiones, siga los siguientes puntos:\n",
    "\n",
    "-Enunciar la hipótesis: hipótesis nula y alternativa.\n",
    "-Realizar la prueba para comprobar la hipótesis. Puede utilizar la prueba t de Student.\n",
    "-Analizar las conclusiones."
   ]
  },
  {
   "cell_type": "code",
   "execution_count": 1,
   "id": "a791f81f",
   "metadata": {},
   "outputs": [],
   "source": [
    "import scipy.stats as stats"
   ]
  },
  {
   "cell_type": "code",
   "execution_count": null,
   "id": "8e0f3cf0",
   "metadata": {},
   "outputs": [
    {
     "name": "stdout",
     "output_type": "stream",
     "text": [
      "el valor t es igual a -3.54\n",
      "el valor p es igual a 0.0041\n",
      "Se rechaza hipotesis nula\n"
     ]
    }
   ],
   "source": [
    "#Enunciar hipotesis\n",
    "# H0 = No hay diferencia de pérdida de peso significativa entre los dos grupos\n",
    "# H1 = Hay diferencia de pérdida de peso significativa entre los dos grupos\n",
    "\n",
    "diet1 = [2.0, 2.5, 3.0, 2.8, 2.3, 2.7, 2.5]\n",
    "diet2 = [3.0, 3.2, 3.1, 2.9, 2.8, 3.0, 3.2]\n",
    "\n",
    "#T-test\n",
    "from scipy.stats import ttest_ind\n",
    "t_value, p_value = ttest_ind(diet1, diet2, alternative= \"two-sided\")\n",
    "\n",
    "print(f\"El valor t es igual a {t_value:.2f}\")\n",
    "print(f\"El valor p es igual a {p_value:.4f}\")\n",
    "\n",
    "if p_value < 0.05:\n",
    "    print(f\"Se rechaza hipotesis nula\")\n",
    "elif p_value >= 0.05:\n",
    "    print(f\"se acepta la hipotesis nula\")\n",
    "\n"
   ]
  },
  {
   "cell_type": "markdown",
   "id": "54bb723f",
   "metadata": {},
   "source": [
    "Conclusión:\n"
   ]
  },
  {
   "cell_type": "markdown",
   "id": "f432e18e",
   "metadata": {},
   "source": [
    "## ANOVA\n",
    "\n",
    "**ANOVA** (*Analysis of Variance - Análisis de variación*) Es una técnica estadística utilizada para comparar las medidas de dos o más grupos. La idea detrás de ANOVA es descomponer la variabilidad total de los datos en dos componentes: variabilidad entre grupos y variabilidad dentro de los grupos:\n",
    "\n",
    "- **Variabilidad entre grupos**: Esta variabilidad se refiere a las diferencias entre las medias del grupo. Si esta variabilidad es considerablemente mayor que la variabilidad dentro del grupo, podría ser una indicación de que al menos una de las medias del grupo es diferente.\n",
    "- **Variabilidad dentro del grupo**: Esta variabilidad se refiere a la dispersión de los datos dentro de cada grupo. Si todos los grupos tienen una variabilidad similar, entonces cualquier diferencia notable en las medias de los grupos podría considerarse significativa.\n",
    "\n",
    "Las hipótesis en ANOVA suelen incluir:\n",
    "\n",
    "- **Hipótesis nula** ($H₀$): Las medias de todos los grupos son iguales.\n",
    "- **Hipótesis alternativa** ($H₁$): Al menos una de las medias del grupo es diferente.\n",
    "\n",
    "Si el resultado de la prueba ANOVA es significativo (por ejemplo, un valor p inferior a un umbral como 0,05), esto sugiere que al menos la media de un grupo es diferente."
   ]
  },
  {
   "cell_type": "markdown",
   "id": "fc5f3721",
   "metadata": {},
   "source": [
    "## Ejercicio 2\n",
    "\n",
    "Un agricultor decide probar tres tipos diferentes de fertilizantes para determinar si alguno es superior en términos de producción de maíz. El agricultor planta maíz en 15 parcelas idénticas y utiliza los tres fertilizantes (5 parcelas para cada tipo). Al final de la temporada mide el rendimiento de maíz (en kg) de cada parcela, con el siguiente resultado:\n",
    "\n",
    "| Fertilizante 1 | Fertilizante 2 | Fertilizante 3 |\n",
    "|:-------------|:-------------|:-------------|\n",
    "| 20 | 22 | 24 |\n",
    "| 21 | 21 | 23 |\n",
    "| 20 | 23 | 22 |\n",
    "| 19 | 22 | 23 |\n",
    "| 20 | 21 | 24 |\n",
    "\n",
    "Con estos datos busca responder la siguiente pregunta: ¿Existe una diferencia significativa en el rendimiento promedio del maíz entre los tres tipos de fertilizantes?\n",
    "\n",
    "Para ayudarte, sigue los siguientes puntos:\n",
    "\n",
    "-Enunciar la hipótesis: hipótesis nula y alternativa.\n",
    "-Realizar la prueba ANOVA.\n",
    "-Analizar las conclusiones.\n",
    "-Si un fertilizante es mejor que otro, ¿cómo podemos saberlo?"
   ]
  },
  {
   "cell_type": "code",
   "execution_count": 16,
   "id": "eecad0ca",
   "metadata": {},
   "outputs": [],
   "source": [
    "# Hipotesis 2\n",
    "# H0: No hay diferencia en el rendimiento entre los 3 diferentes tipos de fertilizantes\n",
    "# H1: Hay diferente en el rendimiento entre los 3 diferentes tipos de fertilizantes"
   ]
  },
  {
   "cell_type": "code",
   "execution_count": 17,
   "id": "f7f35778",
   "metadata": {},
   "outputs": [],
   "source": [
    "from scipy.stats import f_oneway\n",
    "# f_oneway: 3 grupos con una variable única a estudiar"
   ]
  },
  {
   "cell_type": "code",
   "execution_count": null,
   "id": "63ef161b",
   "metadata": {},
   "outputs": [
    {
     "name": "stdout",
     "output_type": "stream",
     "text": [
      "El valor f es igual a 20.32\n",
      "El valor p es igual a 0.0001\n",
      "Se rechaza hipotesis nula\n",
      "Multiple Comparison of Means - Tukey HSD, FWER=0.05\n",
      "==================================================\n",
      "group1 group2 meandiff p-adj  lower  upper  reject\n",
      "--------------------------------------------------\n",
      "    F1     F2      1.8 0.0099 0.4572 3.1428   True\n",
      "    F1     F3      3.2 0.0001 1.8572 4.5428   True\n",
      "    F2     F3      1.4 0.0409 0.0572 2.7428   True\n",
      "--------------------------------------------------\n"
     ]
    }
   ],
   "source": [
    "f_1 = [20, 21, 20, 19, 20]\n",
    "f_2 = [22, 21, 23, 22, 21]\n",
    "f_3 = [24, 23, 22, 23, 24]\n",
    "\n",
    "f_value, p_value = f_oneway(f_1, f_2, f_3)\n",
    "print(f\"El valor f es igual a {f_value:.2f}\")\n",
    "print(f\"El valor p es igual a {p_value:.4f}\")\n",
    "\n",
    "\n",
    "if p_value < 0.05:\n",
    "    print(f\"Se rechaza hipotesis nula\")\n",
    "elif p_value >= 0.05:\n",
    "    print(f\"se acepta la hipotesis nula\")\n",
    "\n",
    "import numpy as np\n",
    "from statsmodels.stats.multicomp import pairwise_tukeyhsd\n",
    "\n",
    "data = np.concatenate([f_1, f_2, f_3])\n",
    "labels = [\"F1\"] * 5 + [\"F2\"] * 5 + [\"F3\"] * 5\n",
    "\n",
    "# Tukey test\n",
    "result = pairwise_tukeyhsd(data, labels, alpha = 0.05)\n",
    "print(result)\n",
    "\n"
   ]
  },
  {
   "cell_type": "markdown",
   "id": "93d4d14a",
   "metadata": {},
   "source": [
    "Conclusión:"
   ]
  },
  {
   "cell_type": "code",
   "execution_count": 22,
   "id": "8d843ade",
   "metadata": {},
   "outputs": [
    {
     "data": {
      "image/png": "[encoded data removed]",
      "text/plain": [
       "<Figure size 800x600 with 1 Axes>"
      ]
     },
     "metadata": {},
     "output_type": "display_data"
    }
   ],
   "source": [
    "\n",
    "# Crear gráfico de cajas\n",
    "import matplotlib.pyplot as plt\n",
    "\n",
    "plt.style.use('seaborn-v0_8')\n",
    "fig, ax = plt.subplots(figsize=(8, 6))\n",
    "ax.boxplot([f_1, f_2, f_3], patch_artist=True,\n",
    "           boxprops=dict(facecolor='lightblue', color='blue'),\n",
    "           medianprops=dict(color='red'))\n",
    "\n",
    "# Etiquetas y título\n",
    "ax.set_xticklabels(['Fertilizante 1', 'Fertilizante 2', 'Fertilizante 3'])\n",
    "ax.set_ylabel('Rendimiento')\n",
    "ax.set_title('Comparación de rendimiento entre fertilizantes')\n",
    "\n",
    "plt.show()"
   ]
  },
  {
   "cell_type": "code",
   "execution_count": 34,
   "id": "c97d154e",
   "metadata": {},
   "outputs": [
    {
     "data": {
      "image/png": "[encoded data removed]",
      "text/plain": [
       "<Figure size 800x600 with 1 Axes>"
      ]
     },
     "metadata": {},
     "output_type": "display_data"
    }
   ],
   "source": [
    "import numpy as np\n",
    "\n",
    "medias = [np.mean(f_1), np.mean(f_2), np.mean(f_3)]\n",
    "errores = [np.std(f_1, ddof=1), np.std(f_2, ddof=1), np.std(f_3, ddof=1)]\n",
    "\n",
    "plt.figure(figsize=(8,6))\n",
    "plt.bar(['Fertilizante 1', 'Fertilizante 2', 'Fertilizante 3'],\n",
    "        medias, capsize=5, color=['cyan','magenta','lightblue'])\n",
    "plt.ylabel('Rendimiento promedio')\n",
    "plt.title('Comparación del rendimiento promedio entre fertilizantes')\n",
    "plt.show()"
   ]
  }
 ],
 "metadata": {
  "kernelspec": {
   "display_name": "Python 3",
   "language": "python",
   "name": "python3"
  },
  "language_info": {
   "codemirror_mode": {
    "name": "ipython",
    "version": 3
   },
   "file_extension": ".py",
   "mimetype": "text/x-python",
   "name": "python",
   "nbconvert_exporter": "python",
   "pygments_lexer": "ipython3",
   "version": "3.11.4"
  }
 },
 "nbformat": 4,
 "nbformat_minor": 5
}
